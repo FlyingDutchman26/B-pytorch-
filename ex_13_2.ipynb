{
 "cells": [
  {
   "cell_type": "markdown",
   "metadata": {},
   "source": [
    "#### ex_13_2 RNN\n",
    "\n",
    "根据名字识别他所在的国家\n",
    "\n",
    "人名字符长短不一，最长的10个字符，所以处理成10维输入张量，都是英文字母刚好可以映射到ASCII上\n",
    "\n",
    "Maclean ->  ['M', 'a', 'c', 'l', 'e', 'a', 'n'] ->  [ 77 97 99 108 101 97 110]  ->  [ 77 97 99 108 101 97 110 0 0 0]\n",
    "\n",
    "共有18个国家，设置索引为0-17\n",
    "\n",
    "训练集和测试集的表格文件都是第一列人名，第二列国家"
   ]
  },
  {
   "cell_type": "code",
   "execution_count": 1,
   "metadata": {},
   "outputs": [
    {
     "name": "stdout",
     "output_type": "stream",
     "text": [
      "The current computing device is cpu \n"
     ]
    }
   ],
   "source": [
    "import torch\n",
    "import  time\n",
    "import csv\n",
    "import gzip\n",
    "from  torch.utils.data import Dataset,DataLoader\n",
    "import torch.nn as nn\n",
    "import datetime\n",
    "import matplotlib.pyplot as plt\n",
    "import numpy as np\n",
    "import random\n",
    " \n",
    "# Parameters\n",
    "HIDDEN_SIZE = 100\n",
    "BATCH_SIZE = 256\n",
    "N_LAYER = 2\n",
    "N_EPOCHS = 100\n",
    "N_CHARS = 128\n",
    "USE_GPU = True\n",
    "\n",
    "# 初始化并固定随机种子\n",
    "\n",
    "\n",
    "def setup_seed(seed):\n",
    "    torch.manual_seed(seed)\n",
    "    torch.cuda.manual_seed_all(seed)\n",
    "    np.random.seed(seed)\n",
    "    random.seed(seed)\n",
    "    torch.backends.cudnn.deterministic = True\n",
    "\n",
    "\n",
    "setup_seed(1012)\n",
    "\n",
    "# 设置GPU加速\n",
    "device = torch.device(\"cuda\" if torch.cuda.is_available() else \"cpu\")\n",
    "print(f\"The current computing device is {device.type} \")\n",
    "if torch.cuda.is_available():\n",
    "    print(f'The current GPU is :{torch.cuda.get_device_name(0)}')\n",
    "\n",
    "def create_tensor(tensor):  #如果使用GPU，把tensor搬到GPU上去\n",
    "    tensor = tensor.to(device)\n",
    "    return tensor\n"
   ]
  },
  {
   "cell_type": "code",
   "execution_count": 3,
   "metadata": {},
   "outputs": [],
   "source": [
    "class NameDataset(Dataset):         #处理数据集\n",
    "    def __init__(self, is_train_set=True):\n",
    "        filename = 'names_train.csv.gz' if is_train_set else 'names_test.csv.gz'\n",
    "        with gzip.open(filename, 'rt') as f:    #打开压缩文件并将变量名设为为f\n",
    "            reader = csv.reader(f)              #读取表格文件\n",
    "            rows = list(reader)\n",
    "        self.names = [row[0] for row in rows]               # 所有数据集中的姓名\n",
    "        self.countries = [row[1] for row in rows]           # 所有数据集中的国家\n",
    "        self.len = len(self.names)                      # 数据集总长度\n",
    "        self.country_list = list(set(self.countries))   # 保存所有国家名（各一次） 索引与值正好与词典对偶\n",
    "        self.country_num = len(self.country_list)   # 所有国家的类别总数\n",
    "        self.country_dict = self.getCountryDict()   # 返回一个词典，键：国家名 值：数字\n",
    "        \n",
    "    def __getitem__(self, index):\n",
    "        return self.names[index], self.countries_dict[self.countries[index]]\n",
    " \n",
    "    def __len__(self):\n",
    "        return self.len\n",
    " \n",
    "    def getCountryDict(self):\n",
    "        country_dict = dict()                           #创建空字典\n",
    "        for idx, country in enumerate(self.country_list,0):\n",
    "            country_dict[country] = idx # 或者 len(country_dict)\n",
    "        return country_dict\n",
    " \n",
    "    def idx2country(self,index):            #由国家代表的值返回对应的国家名\n",
    "        return self.country_list[index]\n",
    " \n",
    "    def getCountrysNum(self):               #返回国家类别数量\n",
    "        return self.country_num\n",
    "\n",
    "train_set = NameDataset(is_train_set=True)\n",
    "train_loader = DataLoader(train_set, batch_size=BATCH_SIZE,shuffle=True)\n",
    "test_set = NameDataset(is_train_set=False)\n",
    "test_loader = DataLoader(test_set,batch_size=BATCH_SIZE,shuffle=False)\n",
    "N_COUNTRY = train_set.getCountrysNum()  # 这也是最终输出的维度(每个预测类别对应一个维度)"
   ]
  },
  {
   "cell_type": "code",
   "execution_count": null,
   "metadata": {},
   "outputs": [],
   "source": [
    "class RNNBaseClassifier(nn.Module): # 基于RNN的分类器（最后会连上一个全连接层）\n",
    "    def __init__(self,input_size,hidden_size,output_size,num_layers=1,bidirectional= True) -> None:\n",
    "        super(RNNBaseClassifier,self).__init__()\n",
    "        self.hidden_size = hidden_size\n",
    "        self.num_layers = num_layers\n",
    "        self.n_directions = 2 if bidirectional else 1\n",
    "        self.embedding = nn.Embedding(input_size,hidden_size)\n",
    "        self.gru = nn.GRU()"
   ]
  }
 ],
 "metadata": {
  "kernelspec": {
   "display_name": "Python 3.9.12 ('pytorch')",
   "language": "python",
   "name": "python3"
  },
  "language_info": {
   "codemirror_mode": {
    "name": "ipython",
    "version": 3
   },
   "file_extension": ".py",
   "mimetype": "text/x-python",
   "name": "python",
   "nbconvert_exporter": "python",
   "pygments_lexer": "ipython3",
   "version": "3.9.12"
  },
  "orig_nbformat": 4,
  "vscode": {
   "interpreter": {
    "hash": "11d37945a31fbc9f387fe3fa9b4dd08cf0c3fbd61804a4f367c7e90d53f74884"
   }
  }
 },
 "nbformat": 4,
 "nbformat_minor": 2
}
